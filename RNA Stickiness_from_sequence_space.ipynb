{
 "cells": [
  {
   "cell_type": "code",
   "execution_count": 31,
   "id": "4d05afbb-963d-4544-a184-ba576c74f29e",
   "metadata": {},
   "outputs": [],
   "source": [
    "import os\n",
    "from Bio import SeqIO\n",
    "import math\n",
    "from scipy.stats import pearsonr\n",
    "import datetime"
   ]
  },
  {
   "cell_type": "code",
   "execution_count": 32,
   "id": "15b29a6a-c10d-4c48-92af-5c8194e455b2",
   "metadata": {},
   "outputs": [],
   "source": [
    "def find_complementary(subseq:str):\n",
    "    complentary_dict={'A':'U','G':'C','C':'G','U':'A'}\n",
    "    comp_seq=\"\"\n",
    "    for char in subseq:\n",
    "        for key, val in complentary_dict.items():\n",
    "            if char == key:\n",
    "                comp_seq+=val\n",
    "    return comp_seq"
   ]
  },
  {
   "cell_type": "code",
   "execution_count": 33,
   "id": "d29fc344-618c-4b7a-93c3-95993bc6b84a",
   "metadata": {},
   "outputs": [],
   "source": [
    "'''\n",
    "Function to get the complementary sequences if the other strand has a T/U\n",
    "Basically U can base pair with both A and G. So, if a complementary sequence has A, \n",
    "we need all combinations of by replacing A with G in the complementary sequence.\n",
    "\n",
    "PMID : 11256617\n",
    "'''\n",
    "def get_combinations(original_str, replacements_dict, results_list, current_combination):\n",
    "    if not original_str:\n",
    "        results_list.append(current_combination)\n",
    "    else:\n",
    "        first_char = original_str[0]\n",
    "        remaining_str = original_str[1:]\n",
    "        if first_char in replacements_dict:\n",
    "            for replacement in replacements_dict[first_char]:\n",
    "                get_combinations(remaining_str, replacements_dict,\n",
    "                                 results_list, current_combination + replacement)\n",
    "        else:\n",
    "            get_combinations(remaining_str, replacements_dict,\n",
    "                             results_list, current_combination + first_char)"
   ]
  },
  {
   "cell_type": "code",
   "execution_count": 34,
   "id": "32a555f8-c690-4f7f-ae45-7fcb468f4a69",
   "metadata": {},
   "outputs": [],
   "source": [
    "def scan_complement(subseq:str,complement_seq:str):\n",
    "    c=0\n",
    "    for i in range (len(subseq)):\n",
    "        char_search = subseq[i:i+(len(complement_seq))]\n",
    "        if char_search ==  complement_seq:\n",
    "            c+=1\n",
    "    return c"
   ]
  },
  {
   "cell_type": "markdown",
   "id": "68f36c27-2f49-453b-b258-78b8dda51a01",
   "metadata": {},
   "source": [
    "# Snippet for checking calculations"
   ]
  },
  {
   "cell_type": "code",
   "execution_count": 35,
   "id": "750c2c5f-e177-4b82-8f2d-200b141d61e7",
   "metadata": {},
   "outputs": [
    {
     "name": "stdout",
     "output_type": "stream",
     "text": [
      "AUAUUUCAAAAUAAAGAAGAAUCCACAUUGCAUUUGA\n",
      "AUAUU----AAUAU\n",
      "\n",
      "AAUAU\t0\n",
      "AAUGU\t0\n",
      "AGUAU\t0\n",
      "AGUGU\t0\n",
      "GAUAU\t0\n",
      "GAUGU\t0\n",
      "GGUAU\t0\n",
      "GGUGU\t0\n",
      "UCAAA----UUUGA\n",
      "\n",
      "UUUGA\t1\n",
      "UUUGG\t1\n",
      "AUAAA----UUUAU\n",
      "\n",
      "UUUAU\t0\n",
      "UUUGU\t0\n",
      "GAAGA----UCUUC\n",
      "\n",
      "0\n",
      "AUCCA----UGGAU\n",
      "\n",
      "UGGAU\t0\n",
      "UGGGU\t0\n",
      "CAUUG----CAAUG\n",
      "\n",
      "CAAUG\t0\n",
      "CAGUG\t0\n",
      "CGAUG\t0\n",
      "CGGUG\t0\n",
      "CAUUU----AAAUG\n",
      "\n",
      "7\n",
      "1\n"
     ]
    }
   ],
   "source": [
    "'''\n",
    "Snippet for checking calculations\n",
    "'''\n",
    "utr3_seq_dna='ATATTTCAAAATAAAGAAGAATCCACATTGCATTTGA'\n",
    "utr3_seq_rna=utr3_seq_dna.replace('T','U')\n",
    "print (utr3_seq_rna)\n",
    "c=0\n",
    "window_5mer=0\n",
    "sticky_count=0\n",
    "while (c < len(utr3_seq_rna)-5):\n",
    "    subseq=utr3_seq_rna[c:c+5]\n",
    "    window_5mer+=1\n",
    "    complement_seq_rev=find_complementary(subseq)[::-1]\n",
    "    print (subseq+\"----\"+complement_seq_rev+\"\\n\")\n",
    "    #upstream_start=c-3\n",
    "    downstream_start=(c+5)+2\n",
    "    #count_upstream=0\n",
    "    count_downstream=0\n",
    "    if 'A' not in complement_seq_rev:\n",
    "        #if upstream_start > 5:\n",
    "        #    upstream_seq_region=utr3_seq_rna[:upstream_start]\n",
    "        #    count_upstream=scan_complement(upstream_seq_region,complement_seq_rev)\n",
    "        if downstream_start <= (len(utr3_seq_rna)-5):\n",
    "            downstream_seq_region=utr3_seq_rna[downstream_start:]\n",
    "            count_downstream=scan_complement(downstream_seq_region,complement_seq_rev)\n",
    "            print (count_downstream)\n",
    "        sticky_count+=count_downstream            \n",
    "    else:\n",
    "        wobble_dict={'A':['A','G']}\n",
    "        res=[]\n",
    "        get_combinations(complement_seq_rev, wobble_dict, res, \"\")\n",
    "        #print ('complement: '+str(res))\n",
    "        #if upstream_start >= 5:\n",
    "        #    count_upstream=0\n",
    "        #    for i1 in range (len(res)):\n",
    "        #        upstream_seq_region=utr3_seq_rna[:upstream_start]\n",
    "        #        count_upstream+=scan_complement(upstream_seq_region,res[i1])\n",
    "        #else:\n",
    "        #    pass\n",
    "        if downstream_start <= (len(utr3_seq_rna)-5):\n",
    "            count_downstream=0\n",
    "            for i1 in range (len(res)):\n",
    "                downstream_seq_region=utr3_seq_rna[downstream_start:]\n",
    "                count_downstream+=scan_complement(downstream_seq_region,res[i1])\n",
    "                print (str(res[i1])+\"\\t\"+str(count_downstream))\n",
    "        \n",
    "        sticky_count+=count_downstream    \n",
    "    c+=5\n",
    "\n",
    "print (window_5mer)\n",
    "print (sticky_count)"
   ]
  },
  {
   "cell_type": "code",
   "execution_count": 36,
   "id": "b51702bd-1d47-4231-9bb6-ffd4fd152032",
   "metadata": {},
   "outputs": [
    {
     "name": "stdout",
     "output_type": "stream",
     "text": [
      "UUCCCUGGGCCUCU\n"
     ]
    }
   ],
   "source": [
    "s=find_complementary('AGTTTTATTTGTTGCCCAGGGTAA')\n",
    "print(s[::-1])"
   ]
  },
  {
   "cell_type": "code",
   "execution_count": 37,
   "id": "d774322d-79a7-40f4-9266-ffd2c1996489",
   "metadata": {},
   "outputs": [
    {
     "name": "stdout",
     "output_type": "stream",
     "text": [
      "['AAACU', 'AAGCU', 'AGACU', 'AGGCU', 'GAACU', 'GAGCU', 'GGACU', 'GGGCU']\n"
     ]
    }
   ],
   "source": [
    "wobble_dict={'A':['A','G']}\n",
    "res=[]\n",
    "get_combinations('AAACU',wobble_dict,res,'')\n",
    "print (res)"
   ]
  },
  {
   "cell_type": "code",
   "execution_count": 38,
   "id": "48e00695-2a13-4fd0-80e1-8c34becd2a3d",
   "metadata": {},
   "outputs": [
    {
     "name": "stdout",
     "output_type": "stream",
     "text": [
      "4\n"
     ]
    }
   ],
   "source": [
    "s=scan_complement('AUCUACCCAAUUGGCGCGAUCACGGGG','GG')\n",
    "print (s)"
   ]
  },
  {
   "cell_type": "markdown",
   "id": "38ad93fd-b046-4ba2-9cdc-cdde066b2e17",
   "metadata": {},
   "source": [
    "# Main working block"
   ]
  },
  {
   "cell_type": "code",
   "execution_count": 39,
   "id": "66388d25-ed98-4b97-b6c0-15e73cc6109e",
   "metadata": {},
   "outputs": [
    {
     "name": "stdout",
     "output_type": "stream",
     "text": [
      "/Users/basus2/Library/CloudStorage/OneDrive-MemorialSloanKetteringCancerCenter/Work/UTR3_RNA interaction potential/raw_output_files/CDS_stickiness_score_non_overlapping_window_5nt_only_WC_wobble_bp.txt\n"
     ]
    },
    {
     "data": {
      "text/plain": [
       "72"
      ]
     },
     "execution_count": 39,
     "metadata": {},
     "output_type": "execute_result"
    }
   ],
   "source": [
    "path_to_anno_file=r'/Users/basus2/Library/CloudStorage/'\\\n",
    "r'OneDrive-MemorialSloanKetteringCancerCenter/'\\\n",
    "r'Work/UTR3_RNA interaction potential/MANE_sequence_JAN2025'\n",
    "\n",
    "\n",
    "#flex_infile_path=r'G:\\Work\\RNA interaction potential\\MANE_3UTR_JAN2025'\n",
    "\n",
    "utr3_file=os.path.join(path_to_anno_file,'mane_human_cds_exons.fasta')\n",
    "#print (utr3_file)\n",
    "\n",
    "path_to_outfile=r'/Users/basus2/Library/CloudStorage/'\\\n",
    "r'OneDrive-MemorialSloanKetteringCancerCenter/'\\\n",
    "r'Work/UTR3_RNA interaction potential/raw_output_files'\n",
    "outfile=os.path.join(path_to_outfile,'CDS_stickiness_score_non_overlapping_window_5nt_only_WC_wobble_bp.txt')\n",
    "print (outfile)\n",
    "\n",
    "o1=open(outfile,'w')\n",
    "line0=['ENSEMBL id','Length_CDS','Count','Stickiness_by_length','Stickiness_per_1000nts']\n",
    "o1.write(\"\\t\".join(line0)+\"\\n\")"
   ]
  },
  {
   "cell_type": "code",
   "execution_count": 40,
   "id": "15afd574-a9ca-41ed-98f0-68c24db2fc69",
   "metadata": {},
   "outputs": [
    {
     "name": "stdout",
     "output_type": "stream",
     "text": [
      "2025-04-17 13:33:27.301504\n",
      "2025-04-17 13:35:50.758842\t1000\n",
      "2025-04-17 13:39:07.370980\t2000\n",
      "2025-04-17 13:49:06.825397\t3000\n",
      "2025-04-17 13:51:56.648952\t4000\n",
      "2025-04-17 13:54:49.195127\t5000\n",
      "2025-04-17 13:57:30.253578\t6000\n",
      "2025-04-17 14:00:46.903967\t7000\n",
      "2025-04-17 14:03:21.850798\t8000\n",
      "2025-04-17 14:06:24.142639\t9000\n",
      "2025-04-17 14:08:31.394522\t10000\n",
      "2025-04-17 14:11:01.498844\t11000\n",
      "2025-04-17 14:13:11.448919\t12000\n",
      "2025-04-17 14:15:38.249735\t13000\n",
      "2025-04-17 14:19:04.216638\t14000\n",
      "2025-04-17 14:22:00.601895\t15000\n",
      "2025-04-17 14:24:10.793824\t16000\n",
      "2025-04-17 14:26:30.801547\t17000\n",
      "2025-04-17 14:28:00.698670\t18000\n",
      "2025-04-17 14:29:39.920976\t19000\n",
      "Pearsonr : 0.9655308668187743with p-value of : 0.0\n",
      "Pearsonr : 0.6342343164122762with p-value of : 0.0\n"
     ]
    }
   ],
   "source": [
    "now = datetime.datetime.now()\n",
    "print (now)\n",
    "stickiness_score_list=[]\n",
    "sticky_count_list=[]\n",
    "utr3_length=[]\n",
    "icount=0\n",
    "for data in SeqIO.parse(utr3_file,\"fasta\"):\n",
    "    header=str(data.id)\n",
    "    #print (header)\n",
    "    enst_id=header.strip().split(\"_\")[2]\n",
    "    utr3_seq_dna=str(data.seq)\n",
    "    utr3_seq_rna=utr3_seq_dna.replace('T','U')\n",
    "    #print (len(utr3_seq_rna))\n",
    "    c=0\n",
    "    window_5mer=0\n",
    "    sticky_count=0\n",
    "    while (c < len(utr3_seq_rna)-5):\n",
    "        subseq=utr3_seq_rna[c:c+5]\n",
    "        window_5mer+=1\n",
    "        complement_seq_rev=find_complementary(subseq)[::-1]\n",
    "        #print (subseq+\"----\"+complement_seq_rev+\"\\n\")\n",
    "        #upstream_start=c-3\n",
    "        downstream_start=(c+5)+2\n",
    "        #count_upstream=0\n",
    "        count_downstream=0\n",
    "\n",
    "        '''Only calculate complementary regions using watson-crick pairs'''\n",
    "        '''if downstream_start <= (len(utr3_seq_rna)-5):\n",
    "            downstream_seq_region = utr3_seq_rna[downstream_start:]\n",
    "            count_downstream=scan_complement(downstream_seq_region,complement_seq_rev)'''\n",
    "        \n",
    "        '''Below if-else block is calculate complementary regions considering wobble bases\n",
    "        U can pair with G along with normal watson-crick pairs'''\n",
    "        \n",
    "        if 'A' not in complement_seq_rev:\n",
    "            if downstream_start <= (len(utr3_seq_rna)-5):\n",
    "                downstream_seq_region=utr3_seq_rna[downstream_start:]\n",
    "                count_downstream=scan_complement(downstream_seq_region,complement_seq_rev)\n",
    "\n",
    "            sticky_count+=count_downstream            \n",
    "        else:\n",
    "            wobble_dict={'A':['A','G']}\n",
    "            res=[]\n",
    "            get_combinations(complement_seq_rev, wobble_dict, res, \"\")\n",
    "            if downstream_start <= (len(utr3_seq_rna)-5):\n",
    "                count_downstream=0\n",
    "                for i1 in range (len(res)):\n",
    "                    downstream_seq_region=utr3_seq_rna[downstream_start:]\n",
    "                    count_downstream+=scan_complement(downstream_seq_region,res[i1])\n",
    "            \n",
    "        sticky_count+=count_downstream    \n",
    "        c+=5  #Shift by 1 nucleotide,overlapping window ; NB - also run a non-overlapping ie c+=5\n",
    "\n",
    "    try:\n",
    "        stickiness_score_by_window_freq=sticky_count/window_5mer\n",
    "        stickiness_score_by_utr_length=sticky_count/len(utr3_seq_rna)\n",
    "        stickiness_score_per_1000_nt=(sticky_count/len(utr3_seq_rna))*1000\n",
    "        #print (stickiness_score)\n",
    "        #print (window_5mer)\n",
    "        stickiness_score_list.append(stickiness_score_by_window_freq)\n",
    "        sticky_count_list.append(sticky_count)\n",
    "        utr3_length.append(len(utr3_seq_rna))\n",
    "        o1.write(enst_id+\"\\t\"+str(len(utr3_seq_rna))+\"\\t\"+str(sticky_count)+\n",
    "                 \"\\t\"+str(stickiness_score_by_utr_length)+\"\\t\"+str(stickiness_score_per_1000_nt)+\"\\n\")\n",
    "\n",
    "    except ZeroDivisionError:\n",
    "        o1.write(enst_id+\"\\t\"+str(len(utr3_seq_rna))+\"\\t\"+\"UTR5 length less than 5\"+\"\\n\")\n",
    "    \n",
    "    icount+=1\n",
    "    if icount % 1000 == 0:\n",
    "        now = datetime.datetime.now()\n",
    "        print (str(now)+\"\\t\"+str(icount))\n",
    "\n",
    "o1.close()\n",
    "pcorr=pearsonr(utr3_length,stickiness_score_list)\n",
    "print (\"Pearsonr : \"+str(pcorr.statistic)+\"with p-value of : \"+str(pcorr.pvalue))\n",
    "\n",
    "pcorr1=pearsonr(utr3_length,sticky_count_list)\n",
    "print (\"Pearsonr : \"+str(pcorr1.statistic)+\"with p-value of : \"+str(pcorr1.pvalue))"
   ]
  },
  {
   "cell_type": "code",
   "execution_count": null,
   "id": "30488c96-2822-4913-add9-821f9d20cb96",
   "metadata": {},
   "outputs": [],
   "source": []
  },
  {
   "cell_type": "markdown",
   "id": "0ef14523-388f-41e3-bc45-49b397454be7",
   "metadata": {},
   "source": [
    "# DON'T KNOW...Need to find out"
   ]
  },
  {
   "cell_type": "code",
   "execution_count": null,
   "id": "e8e8f3df-72e0-4cd2-8296-23f99c9b16fd",
   "metadata": {},
   "outputs": [],
   "source": [
    "def get_combinations(original_str, replacements_dict, results_list, current_combination):\n",
    "    if not original_str:\n",
    "        results_list.append(current_combination)\n",
    "    else:\n",
    "        first_char = original_str[0]\n",
    "        remaining_str = original_str[1:]\n",
    "        if first_char in replacements_dict:\n",
    "            for replacement in replacements_dict[first_char]:\n",
    "                get_combinations(remaining_str, replacements_dict,\n",
    "                                 results_list, current_combination + replacement)\n",
    "        else:\n",
    "            get_combinations(remaining_str, replacements_dict,\n",
    "                             results_list, current_combination + first_char)\n",
    " \n",
    " \n",
    "# Example usage:\n",
    "test_str = \"GACGAAGAAU\"\n",
    "print(\"The original string is : \" + str(test_str))\n",
    "test_dict = {'A':['A','G']}\n",
    "#for key in test_dict.keys():\n",
    "#    if key not in test_dict[key]:\n",
    "#        test_dict[key].append(key)\n",
    "res = []\n",
    "get_combinations(test_str, test_dict, res, \"\")\n",
    "print(\"All combinations : \" + str(res))\n",
    "print (len(res))"
   ]
  },
  {
   "cell_type": "code",
   "execution_count": null,
   "id": "a1b71b13-1bb5-42a7-b640-4c38dc372dbc",
   "metadata": {},
   "outputs": [],
   "source": []
  },
  {
   "cell_type": "markdown",
   "id": "c8a6b0f8-83b7-4fe2-a22c-14d6f61067a7",
   "metadata": {},
   "source": [
    "# For Checking in one transcript (POC)"
   ]
  },
  {
   "cell_type": "code",
   "execution_count": null,
   "id": "05a8b22c-9f7f-4d30-8c06-21f5c39d039c",
   "metadata": {},
   "outputs": [],
   "source": []
  },
  {
   "cell_type": "code",
   "execution_count": null,
   "id": "1360867e-ce86-48c8-94c2-8489db2b719d",
   "metadata": {},
   "outputs": [],
   "source": [
    "path_to_anno_file=r'G:\\Work\\UTR3_RNA interaction potential\\MANE_3UTR_JAN2025'\n",
    "\n",
    "test_file=os.path.join(path_to_anno_file,'sample_utr3_exons.fasta')\n",
    "header=''\n",
    "utr3_seq_dna=''\n",
    "for data in SeqIO.parse(test_file,'fasta'):\n",
    "    header=(data.id)\n",
    "    utr3_seq_dna=(data.seq)\n",
    "\n",
    "print (len(utr3_seq_rna))\n",
    "utr3_seq_rna=utr3_seq_dna.replace('T','U')\n",
    "\n",
    "\n",
    "c=0\n",
    "window_5mer=0\n",
    "sticky_count=0\n",
    "while (c < len(utr3_seq_rna)-5):\n",
    "    subseq=utr3_seq_rna[c:c+5]\n",
    "    window_5mer+=1\n",
    "    complement_seq_rev=find_complementary(subseq)[::-1]\n",
    "    #print (subseq+\"----\"+complement_seq_rev+\"\\n\")\n",
    "    downstream_start=(c+5)+2\n",
    "    count_downstream=0\n",
    "    '''Only calculate complementary regions using watson-crick pairs'''\n",
    "    '''if downstream_start <= (len(utr3_seq_rna)-5):\n",
    "        downstream_seq_region = utr3_seq_rna[downstream_start:]\n",
    "        count_downstream=scan_complement(downstream_seq_region,complement_seq_rev)\n",
    "        print (subseq+\"--\"+complement_seq_rev+\"--\"+str(count_downstream)+\"\\n\")'''\n",
    "\n",
    "    '''Below if-else block is calculate complementary regions considering wobble bases\n",
    "        U can pair with G along with normal watson-crick pairs'''\n",
    "        \n",
    "    if 'A' not in complement_seq_rev:\n",
    "        if downstream_start <= (len(utr3_seq_rna)-5):\n",
    "            downstream_seq_region=utr3_seq_rna[downstream_start:]\n",
    "            count_downstream=scan_complement(downstream_seq_region,complement_seq_rev)\n",
    "            print (subseq+\"--\"+complement_seq_rev+\"--\"+str(count_downstream)+\"\\n\")\n",
    "        sticky_count+=count_downstream            \n",
    "    else:\n",
    "        wobble_dict={'A':['A','G']}\n",
    "        res=[]\n",
    "        get_combinations(complement_seq_rev, wobble_dict, res, \"\")\n",
    "        if downstream_start <= (len(utr3_seq_rna)-5):\n",
    "            count_downstream=0\n",
    "            for i1 in range (len(res)):\n",
    "                downstream_seq_region=utr3_seq_rna[downstream_start:]\n",
    "                count_downstream+=scan_complement(downstream_seq_region,res[i1])\n",
    "                if count_downstream > 0:\n",
    "                    print (subseq+\"--\"+res[i1]+\"--\"+str(count_downstream)+\"\\n\")\n",
    "\n",
    "    sticky_count+=count_downstream    \n",
    "    c+=5\n",
    "\n",
    "print (sticky_count)"
   ]
  },
  {
   "cell_type": "code",
   "execution_count": null,
   "id": "2fe98e3a-d73c-4b1f-bfef-b9a2fd06d2ab",
   "metadata": {},
   "outputs": [],
   "source": []
  }
 ],
 "metadata": {
  "kernelspec": {
   "display_name": "Python 3 (ipykernel)",
   "language": "python",
   "name": "python3"
  },
  "language_info": {
   "codemirror_mode": {
    "name": "ipython",
    "version": 3
   },
   "file_extension": ".py",
   "mimetype": "text/x-python",
   "name": "python",
   "nbconvert_exporter": "python",
   "pygments_lexer": "ipython3",
   "version": "3.8.10"
  }
 },
 "nbformat": 4,
 "nbformat_minor": 5
}
